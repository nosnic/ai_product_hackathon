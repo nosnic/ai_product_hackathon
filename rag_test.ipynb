{
 "cells": [
  {
   "cell_type": "code",
   "id": "initial_id",
   "metadata": {
    "collapsed": true,
    "ExecuteTime": {
     "end_time": "2024-06-06T12:10:29.463703Z",
     "start_time": "2024-06-06T12:10:29.442070Z"
    }
   },
   "source": [
    "import pandas as pd\n",
    "import importlib\n",
    "import YandexGPT_API\n",
    "importlib.reload(YandexGPT_API)\n",
    "import chromadb\n",
    "from chromadb.config import Settings\n",
    "import json"
   ],
   "outputs": [],
   "execution_count": 9
  },
  {
   "metadata": {
    "ExecuteTime": {
     "end_time": "2024-06-06T12:10:30.290955Z",
     "start_time": "2024-06-06T12:10:29.654599Z"
    }
   },
   "cell_type": "code",
   "source": [
    "df_news = pd.read_csv('news_cut.csv').head(50)\n",
    "df_news.info()"
   ],
   "id": "8e564ef380a9c822",
   "outputs": [
    {
     "name": "stdout",
     "output_type": "stream",
     "text": [
      "<class 'pandas.core.frame.DataFrame'>\n",
      "RangeIndex: 50 entries, 0 to 49\n",
      "Data columns (total 6 columns):\n",
      " #   Column  Non-Null Count  Dtype \n",
      "---  ------  --------------  ----- \n",
      " 0   url     50 non-null     object\n",
      " 1   title   50 non-null     object\n",
      " 2   text    50 non-null     object\n",
      " 3   topic   47 non-null     object\n",
      " 4   tags    49 non-null     object\n",
      " 5   date    50 non-null     object\n",
      "dtypes: object(6)\n",
      "memory usage: 2.5+ KB\n"
     ]
    }
   ],
   "execution_count": 10
  },
  {
   "metadata": {
    "ExecuteTime": {
     "end_time": "2024-06-06T12:10:30.307304Z",
     "start_time": "2024-06-06T12:10:30.290955Z"
    }
   },
   "cell_type": "code",
   "source": "df_news.drop(['title', 'topic', 'tags', 'date'], axis=1, inplace=True)",
   "id": "ed3a018166190bfc",
   "outputs": [],
   "execution_count": 11
  },
  {
   "metadata": {
    "ExecuteTime": {
     "end_time": "2024-06-06T12:10:30.618101Z",
     "start_time": "2024-06-06T12:10:30.605654Z"
    }
   },
   "cell_type": "code",
   "source": "df_news.head(5)",
   "id": "9316c85203e1133e",
   "outputs": [
    {
     "data": {
      "text/plain": [
       "                                              url  \\\n",
       "0  https://lenta.ru/news/2006/06/25/marketreview/   \n",
       "1           https://lenta.ru/news/2001/09/04/ntv/   \n",
       "2      https://lenta.ru/news/2009/03/30/monsters/   \n",
       "3        https://lenta.ru/news/2018/01/04/valdes/   \n",
       "4   https://lenta.ru/news/2016/08/25/ninaeremina/   \n",
       "\n",
       "                                                text  \n",
       "0  Индекс РТС на торгах 23 июня опустился на 0,68...  \n",
       "1  Бизнесмен и солист группы \"Белый орел\" Владими...  \n",
       "2  Анимационный фильм \"Монстры против пришельцев\"...  \n",
       "3  Чемпион мира и Европы в составе сборной Испани...  \n",
       "4  Чемпионка мира по баскетболу в составе сборной...  "
      ],
      "text/html": [
       "<div>\n",
       "<style scoped>\n",
       "    .dataframe tbody tr th:only-of-type {\n",
       "        vertical-align: middle;\n",
       "    }\n",
       "\n",
       "    .dataframe tbody tr th {\n",
       "        vertical-align: top;\n",
       "    }\n",
       "\n",
       "    .dataframe thead th {\n",
       "        text-align: right;\n",
       "    }\n",
       "</style>\n",
       "<table border=\"1\" class=\"dataframe\">\n",
       "  <thead>\n",
       "    <tr style=\"text-align: right;\">\n",
       "      <th></th>\n",
       "      <th>url</th>\n",
       "      <th>text</th>\n",
       "    </tr>\n",
       "  </thead>\n",
       "  <tbody>\n",
       "    <tr>\n",
       "      <th>0</th>\n",
       "      <td>https://lenta.ru/news/2006/06/25/marketreview/</td>\n",
       "      <td>Индекс РТС на торгах 23 июня опустился на 0,68...</td>\n",
       "    </tr>\n",
       "    <tr>\n",
       "      <th>1</th>\n",
       "      <td>https://lenta.ru/news/2001/09/04/ntv/</td>\n",
       "      <td>Бизнесмен и солист группы \"Белый орел\" Владими...</td>\n",
       "    </tr>\n",
       "    <tr>\n",
       "      <th>2</th>\n",
       "      <td>https://lenta.ru/news/2009/03/30/monsters/</td>\n",
       "      <td>Анимационный фильм \"Монстры против пришельцев\"...</td>\n",
       "    </tr>\n",
       "    <tr>\n",
       "      <th>3</th>\n",
       "      <td>https://lenta.ru/news/2018/01/04/valdes/</td>\n",
       "      <td>Чемпион мира и Европы в составе сборной Испани...</td>\n",
       "    </tr>\n",
       "    <tr>\n",
       "      <th>4</th>\n",
       "      <td>https://lenta.ru/news/2016/08/25/ninaeremina/</td>\n",
       "      <td>Чемпионка мира по баскетболу в составе сборной...</td>\n",
       "    </tr>\n",
       "  </tbody>\n",
       "</table>\n",
       "</div>"
      ]
     },
     "execution_count": 12,
     "metadata": {},
     "output_type": "execute_result"
    }
   ],
   "execution_count": 12
  },
  {
   "metadata": {
    "ExecuteTime": {
     "end_time": "2024-06-06T12:10:31.814771Z",
     "start_time": "2024-06-06T12:10:31.803759Z"
    }
   },
   "cell_type": "code",
   "source": "gpt = YandexGPT_API.YandexGPTEmbeddings()",
   "id": "9871a7311ff8a8d6",
   "outputs": [],
   "execution_count": 14
  },
  {
   "metadata": {
    "ExecuteTime": {
     "end_time": "2024-06-06T12:10:32.502231Z",
     "start_time": "2024-06-06T12:10:32.387560Z"
    }
   },
   "cell_type": "code",
   "source": [
    "message = 'Кто проживает на дне океана'\n",
    "answer = gpt.embed_document(message)"
   ],
   "id": "d3933e90ad659901",
   "outputs": [
    {
     "name": "stderr",
     "output_type": "stream",
     "text": [
      "06-06-2024 15:10:32 - urllib3.connectionpool - DEBUG @ Starting new HTTPS connection (1): llm.api.cloud.yandex.net:443\n",
      "06-06-2024 15:10:32 - urllib3.connectionpool - DEBUG @ https://llm.api.cloud.yandex.net:443 \"POST /foundationModels/v1/textEmbedding HTTP/1.1\" 200 None\n"
     ]
    },
    {
     "name": "stdout",
     "output_type": "stream",
     "text": [
      "<Response [200]>\n"
     ]
    }
   ],
   "execution_count": 15
  },
  {
   "metadata": {},
   "cell_type": "code",
   "source": "answers = gpt.embed_documents(df_news['text'])",
   "id": "6dda512a343b9491",
   "outputs": [],
   "execution_count": null
  },
  {
   "metadata": {},
   "cell_type": "code",
   "source": "answers",
   "id": "4aaa46c2da2ecff9",
   "outputs": [],
   "execution_count": null
  },
  {
   "metadata": {},
   "cell_type": "code",
   "source": [
    "df_news['embeds'] = answers\n",
    "df_news.to_csv('news_embed.csv', index=False)"
   ],
   "id": "6e23dbbfcc807950",
   "outputs": [],
   "execution_count": null
  },
  {
   "metadata": {},
   "cell_type": "code",
   "source": [
    "chroma_client = chromadb.HttpClient(host='localhost', \n",
    "                                    port=\"8000\", \n",
    "                                    settings=Settings(anonymized_telemetry=False))\n",
    "\n",
    "collection = chroma_client.get_or_create_collection(\"news\")"
   ],
   "id": "8f4bf7036af226ef",
   "outputs": [],
   "execution_count": null
  },
  {
   "metadata": {},
   "cell_type": "code",
   "source": [
    "df = pd.read_csv('news_embed.csv')\n",
    "texts = df[\"text\"].tolist()"
   ],
   "id": "b54e70cd28cfca56",
   "outputs": [],
   "execution_count": null
  },
  {
   "metadata": {},
   "cell_type": "code",
   "source": [
    "text_embeddings =  list(map(json.loads, df[\"embeds\"].tolist()))\n",
    "ids = df_news.index.astype(str).tolist()"
   ],
   "id": "25ba056c20bd5683",
   "outputs": [],
   "execution_count": null
  },
  {
   "metadata": {},
   "cell_type": "code",
   "source": [
    "collection.upsert(\n",
    "    ids=ids,\n",
    "    embeddings=text_embeddings,\n",
    "    metadatas=[{\"source\": \"news\", \"text\": txt} for txt in texts],\n",
    "    documents=texts\n",
    ")"
   ],
   "id": "4a24b1496b21faa4",
   "outputs": [],
   "execution_count": null
  },
  {
   "metadata": {},
   "cell_type": "code",
   "source": "",
   "id": "b63235d5d10bb97f",
   "outputs": [],
   "execution_count": null
  }
 ],
 "metadata": {
  "kernelspec": {
   "display_name": "Python 3",
   "language": "python",
   "name": "python3"
  },
  "language_info": {
   "codemirror_mode": {
    "name": "ipython",
    "version": 2
   },
   "file_extension": ".py",
   "mimetype": "text/x-python",
   "name": "python",
   "nbconvert_exporter": "python",
   "pygments_lexer": "ipython2",
   "version": "2.7.6"
  }
 },
 "nbformat": 4,
 "nbformat_minor": 5
}
