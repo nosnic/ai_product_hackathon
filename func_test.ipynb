{
 "cells": [
  {
   "metadata": {},
   "cell_type": "code",
   "source": [
    "import importlib\n",
    "import news_processing \n",
    "import YandexGPT_API\n",
    "import database_operating\n",
    "importlib.reload(YandexGPT_API)\n",
    "importlib.reload(news_processing)\n",
    "importlib.reload(database_operating)\n",
    "import pandas as pd"
   ],
   "id": "8a22e0976205c743",
   "outputs": [],
   "execution_count": null
  },
  {
   "metadata": {},
   "cell_type": "code",
   "source": [
    "gpt_instance = YandexGPT_API.YandexGPTEmbeddings()\n",
    "processor = news_processing.NewsProcessor('news_cut.csv', 'news_summary.csv', gpt_instance)\n",
    "processor.process_news()"
   ],
   "id": "a8bdd6ce1a8602fd",
   "outputs": [],
   "execution_count": null
  },
  {
   "metadata": {},
   "cell_type": "code",
   "source": [
    "vector_db_builder = database_operating.VectorDatabaseBuilder(\n",
    "    input_file='news_summary.csv',\n",
    "    gpt_instance=gpt_instance,\n",
    "    chroma_host='localhost',\n",
    "    chroma_port='8000'\n",
    ")\n",
    "vector_db_builder.process()"
   ],
   "id": "50591c25c13de49",
   "outputs": [],
   "execution_count": null
  },
  {
   "metadata": {},
   "cell_type": "code",
   "source": [
    "task = 'баскетбол'\n",
    "result = vector_db_builder.query_similar_items(task)['metadatas'][0]['summary']"
   ],
   "id": "530bc22f9fc9a63f",
   "outputs": [],
   "execution_count": null
  }
 ],
 "metadata": {
  "kernelspec": {
   "display_name": "Python 3",
   "language": "python",
   "name": "python3"
  },
  "language_info": {
   "codemirror_mode": {
    "name": "ipython",
    "version": 2
   },
   "file_extension": ".py",
   "mimetype": "text/x-python",
   "name": "python",
   "nbconvert_exporter": "python",
   "pygments_lexer": "ipython2",
   "version": "2.7.6"
  }
 },
 "nbformat": 4,
 "nbformat_minor": 5
}
